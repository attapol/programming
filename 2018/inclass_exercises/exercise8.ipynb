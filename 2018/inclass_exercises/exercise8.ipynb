{
 "cells": [
  {
   "cell_type": "markdown",
   "metadata": {},
   "source": [
    "# Exercise 8\n",
    "Set, list comprehension, and regular expressions"
   ]
  },
  {
   "cell_type": "markdown",
   "metadata": {},
   "source": [
    "# Problem 1\n",
    "ต้องใช้ set หรือ list comprehension"
   ]
  },
  {
   "cell_type": "code",
   "execution_count": null,
   "metadata": {},
   "outputs": [],
   "source": [
    "def create_square_number_set(n):\n",
    "    \"\"\"Create a set of square numbers smaller than n\n",
    "    \n",
    "    สร้างเซ็ตที่มีจำนวนที่ถอด square root แล้วได้จำนวนเต็มบวก\n",
    "    ตัวเลขในเซ็ตจะต้องมีค่าน้อยกว่า n\n",
    "    \"\"\""
   ]
  },
  {
   "cell_type": "markdown",
   "metadata": {},
   "source": [
    "# Problem 2 \n",
    "ต้องใช้ dict comprehension"
   ]
  },
  {
   "cell_type": "code",
   "execution_count": null,
   "metadata": {},
   "outputs": [],
   "source": [
    "def map_to_lemma(text):\n",
    "    \"\"\"Create a word to lemma dictionary\n",
    "    \n",
    "    สร้าง dictionary ที่ key คือ คำแต่ละคำที่อยู่ในลิสต์ และ value คือ lemma (คำดั้งเดิมไม่เติม inflection +s +ed ใดๆ)\n",
    "    (พูดตามภาษาเทคนิคว่า dictionary ที่ map คำไปหา part-of-speech tag)\n",
    "    \n",
    "    >>> map_to_lemma('He chases mice away from houses')\n",
    "    {He: '-PRON-',\n",
    "     chases: 'chase',\n",
    "     mice: 'mouse',\n",
    "     away: 'away',\n",
    "     from: 'from',\n",
    "     houses: 'house'}\n",
    "    \"\"\""
   ]
  },
  {
   "cell_type": "markdown",
   "metadata": {},
   "source": [
    "# Problem 3\n",
    "ต้องใช้ list comprehension"
   ]
  },
  {
   "cell_type": "code",
   "execution_count": null,
   "metadata": {},
   "outputs": [],
   "source": [
    "def create_prime_number_list(n):\n",
    "    \"\"\"Create a list of prime numbers smaller than n\n",
    "    \n",
    "    สร้าง list ของจำนวนเฉพาะที่มีค่าน้อยกว่า n \n",
    "    จำนวนเฉพาะคือจำนวนที่หารลงตัวเฉพาะตัวมันเอง และ 1\n",
    "    \"\"\""
   ]
  },
  {
   "cell_type": "markdown",
   "metadata": {},
   "source": [
    "# Problem 4\n",
    "\n",
    "1. จาก [data](https://attapol.github.io/programming/data/data_pos_tags.txt) ที่ได้มา\n",
    "```\n",
    "import re\n",
    "data_file = open('data_pos_tags.txt')\n",
    "all_data = data_file.read()\n",
    "tokens = re.split(' |\\n', all_data)\n",
    "```\n",
    "\n",
    "code แต่ละบรรทัดข้างบนนี้มีหน้าที่ทำอะไรบ้าง แปลเป็นภาษาคน\n",
    "\n",
    "2.  จงสร้าง list ที่มีแต่ verb ที่ลงท้ายด้วย -tion เท่านั้นโดยไม่มีตัวไหนซ้ำกัน\n",
    "3.  จงสร้าง list ที่มีแต่ noun ที่ลงท้ายด้วย -tion เท่านั้นโดยไม่มีตัวไหนซ้ำกัน\n"
   ]
  },
  {
   "cell_type": "code",
   "execution_count": null,
   "metadata": {},
   "outputs": [],
   "source": [
    "import re\n",
    "data_file = open('data_pos_tags.txt')\n",
    "all_data = data_file.read()\n",
    "tokens = re.split(' |\\n', all_data)"
   ]
  },
  {
   "cell_type": "markdown",
   "metadata": {},
   "source": [
    "# Problem 5\n",
    "เขียน program ดึง ชื่อนามสกุลภาษาอังกฤษของอาจารย์ภาคภาษาอังกฤษ จุฬาฯ ทั้งหมด\n",
    "ข้อมูลสามารถ save มาได้จาก http://www.arts.chula.ac.th/~english/staff.html\n",
    "\n"
   ]
  },
  {
   "cell_type": "code",
   "execution_count": null,
   "metadata": {},
   "outputs": [],
   "source": []
  },
  {
   "cell_type": "markdown",
   "metadata": {},
   "source": [
    "# Problem 6\n",
    "เขียน program ดึง ชื่อนามสกุล และอีเมล์ของอาจารย์ภาคภาษาศาสตร์ จุฬาฯ ทั้งหมด \n",
    "ข้อมูลสามารถ save มาได้จาก http://www.arts.chula.ac.th/ling/people/faculty/\n"
   ]
  },
  {
   "cell_type": "code",
   "execution_count": null,
   "metadata": {},
   "outputs": [],
   "source": []
  }
 ],
 "metadata": {
  "kernelspec": {
   "display_name": "Python 3",
   "language": "python",
   "name": "python3"
  },
  "language_info": {
   "codemirror_mode": {
    "name": "ipython",
    "version": 3
   },
   "file_extension": ".py",
   "mimetype": "text/x-python",
   "name": "python",
   "nbconvert_exporter": "python",
   "pygments_lexer": "ipython3",
   "version": "3.6.5"
  }
 },
 "nbformat": 4,
 "nbformat_minor": 2
}
