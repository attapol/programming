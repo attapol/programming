{
 "cells": [
  {
   "cell_type": "markdown",
   "metadata": {},
   "source": [
    "# Exercise 5\n",
    "\n",
    "* Reading and writing files.\n",
    "* Dictionaries\n",
    "* Tuples\n",
    "\n",
    "ก่อนเริ่มให้ Download [data](http://attapol.github.io/programming/data_pos_tags.txt) หรือจากเว็บไซต์วิชา แล้วเปิดดูด้วยตัวเองว่ารูปแบบ (format) ของข้อมูลหน้าเป็นอย่างไร "
   ]
  },
  {
   "cell_type": "markdown",
   "metadata": {},
   "source": [
    "# Problem 0 - Reading data\n",
    "โจทย์ข้อถัดๆ ไปจะใช้ชุดข้อมูลชุดเดียวกันเพราะฉะนั้น โจทย์ข้อนี้จะให้อ่านข้อมูลและเก็บไว้ในตัวแปรที่ชื่อว่า `sentences` และนำกลับมาใช้ใหม่ตลอดทุกข้อ เพราะว่าการประมวลผลข้อมูลด้วยการอ่านจากไฟล์นั้นค่อนข้างช้า อย่าทำซ้ำๆ บ่อยๆ"
   ]
  },
  {
   "cell_type": "code",
   "execution_count": null,
   "metadata": {},
   "outputs": [],
   "source": []
  },
  {
   "cell_type": "markdown",
   "metadata": {},
   "source": [
    "# Problem 1 - Count sentences and words\n",
    "เขียน program ที่ print ค่าสถิติของข้อมูลดังต่อไปนี้\n",
    "\n",
    "* จำนวนประโยค\n",
    "* จำนวนคำ\n",
    "* ความยาวของประโยคที่มีความยาวสูงสุด โดยใช้จำนวนคำเป็นเกณฑ์\n",
    "* ความยาวของประโยคที่มีความยาวต่ำสุด โดยใช้จำนวนคำเป็นเกณฑ์\n",
    "* ความยาวเฉลี่ยของประโยค"
   ]
  },
  {
   "cell_type": "code",
   "execution_count": null,
   "metadata": {},
   "outputs": [],
   "source": []
  },
  {
   "cell_type": "markdown",
   "metadata": {},
   "source": [
    "# Problem 2 Counter\n",
    "`Counter` เป็น data structure ที่คล้ายคลึงกับ `dict` ต่างกันตรงที่ว่า `Counter` นั้น key เป็นอะไรก็ได้ แต่ว่า value จะต้องเป็น `int` (ถ้าจำไม่ได้ว่า key และ value คืออะไรให้กลับไปดูวิดีโอเรื่อง dictionary ใหม่อีกครั้งหนึ่ง) \n",
    "\n",
    "วิธีใช้เหมือนกับ dictionary ดังนี้"
   ]
  },
  {
   "cell_type": "code",
   "execution_count": 4,
   "metadata": {},
   "outputs": [
    {
     "data": {
      "text/plain": [
       "[('word2', 30), ('word4', 20)]"
      ]
     },
     "execution_count": 4,
     "metadata": {},
     "output_type": "execute_result"
    }
   ],
   "source": [
    "import collections\n",
    "ctr = collections.Counter() # สร้าง dictionary (counter) เปล่า\n",
    "ctr['word1'] += 1 # ค่า default เป็น 0 มาให้เลย ไม่ต้องมาเซ็ตให้เป็นศูนย์ด้วยตัวเอง\n",
    "ctr['word2'] = 30\n",
    "ctr['word3'] = 10\n",
    "ctr['word4'] = 20\n",
    "ctr.most_common(2) # Counter นั้นเหมือนกับ dictionary แต่ว่ามี method นี้สะดวกดี"
   ]
  },
  {
   "cell_type": "markdown",
   "metadata": {},
   "source": [
    "เขียนโปรแกรมโดยใช้ `Counter` ในการหา string ที่พบบ่อยที่สุดใน list ที่ชื่อว่า stuff ข้างล่าง"
   ]
  },
  {
   "cell_type": "code",
   "execution_count": 5,
   "metadata": {
    "scrolled": true
   },
   "outputs": [],
   "source": [
    "stuff = ['a'] * 100 + ['b']* 80 + ['c'] * 10000 + ['d'] * 50\n"
   ]
  },
  {
   "cell_type": "markdown",
   "metadata": {},
   "source": [
    "# Problem 3 - การกระจายตัวของ part-of-speech\n",
    "เขียน program ที่นับว่า part-of-speech แต่ละชนิดนั้นปรากฏตัวกี่ครั้งในข้อมูลชุดนี้"
   ]
  },
  {
   "cell_type": "code",
   "execution_count": null,
   "metadata": {},
   "outputs": [],
   "source": []
  },
  {
   "cell_type": "markdown",
   "metadata": {},
   "source": [
    "# Problem 4 - ADJ นำหน้าอะไรได้บ้าง\n",
    "ตามทฤษฎีแล้ว adjective ควรจะนำหน้าคำนามเสมอ จงเขียนโปรแกรมที่นับว่า ADJ นำหน้า POS ใดบ้างด้วยความถี่เท่าไร เช่น\n",
    "\n",
    "ความถี่ที่ ADJ นำหน้า Noun = จำนวนครั้งที่ ADJ นำหน้า noun / จำนวนครั้งที่ ADJ นำหน้าคำ"
   ]
  },
  {
   "cell_type": "code",
   "execution_count": null,
   "metadata": {},
   "outputs": [],
   "source": []
  },
  {
   "cell_type": "markdown",
   "metadata": {},
   "source": [
    "# Problem 5 - อะไรนำหน้าอะไรได้บ้าง\n",
    "จงเขียน function ที่คำนวณความถี่ของ POS X ในการนำหน้า POS อื่นๆ "
   ]
  },
  {
   "cell_type": "code",
   "execution_count": 6,
   "metadata": {},
   "outputs": [],
   "source": [
    "def compute_preceding_freq(preceding_pos_tag, sentences):\n",
    "    \"\"\"\n",
    "    \n",
    "    >>> preceding_pos_tag('ADJ')\n",
    "    The output should be like problem 3 \n",
    "    \n",
    "    \"\"\""
   ]
  },
  {
   "cell_type": "markdown",
   "metadata": {},
   "source": [
    "# Problem 6 - shake it! shake it!\n",
    "จงเขียนโปรแกรมหาว่า คำว่า shake สามารถมีได้กี่ POS tag และแต่ละ tag นั้นมีความถี่เท่าไร \n",
    "\n",
    "ความถี่ของ shake/NOUN = จำนวนครั้งที่เจอ shake/NOUN / จำนวนครั้งที่เจอ shake\n"
   ]
  },
  {
   "cell_type": "code",
   "execution_count": null,
   "metadata": {},
   "outputs": [],
   "source": []
  },
  {
   "cell_type": "markdown",
   "metadata": {},
   "source": [
    "# Problem 7\n",
    "คำคำหนึ่งสามารถมีได้มากที่สุด POS tag\n",
    "\n",
    "จงเขียนโปรแกรมที่หาคำๆ ที่มี POS tag มากที่สุด 20 ลำดับแรก (คำใบ้: ใช้ `Counter` จะทำให้ง่ายขึ้นเยอะมาก วิธีการใช้มีดังนี้)"
   ]
  },
  {
   "cell_type": "code",
   "execution_count": null,
   "metadata": {},
   "outputs": [],
   "source": []
  }
 ],
 "metadata": {
  "kernelspec": {
   "display_name": "Python 3",
   "language": "python",
   "name": "python3"
  },
  "language_info": {
   "codemirror_mode": {
    "name": "ipython",
    "version": 3
   },
   "file_extension": ".py",
   "mimetype": "text/x-python",
   "name": "python",
   "nbconvert_exporter": "python",
   "pygments_lexer": "ipython3",
   "version": "3.6.5"
  }
 },
 "nbformat": 4,
 "nbformat_minor": 2
}
