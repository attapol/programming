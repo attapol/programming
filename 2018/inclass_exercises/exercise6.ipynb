{
 "cells": [
  {
   "cell_type": "markdown",
   "metadata": {},
   "source": [
    "# Exercise 6\n",
    "Parallel lists, nested lists, nested dictionaries"
   ]
  },
  {
   "cell_type": "markdown",
   "metadata": {},
   "source": [
    "# Problem 1\n",
    "Download [data](http://attapol.github.io/programming/data_pos_tags.txt) จากครั้งที่แล้ว เขียนโปรแกรมเพื่อคำนวณว่า POS tags NOUN, ADV, ADJ, VERB, DET, AUX นำหน้า POS tags อื่นๆในลิสต์นี้ ด้วยความถี่เท่าไร\n",
    "\n",
    "ความถี่ที่ NOUN นำหน้า ADV = จำนวนครั้งที่เห็น NOUN ADV / จำนวนครั้งที่เห็น NOUN\n",
    "\n",
    "แนะนำว่าควรจะใช้ nested dictionary"
   ]
  },
  {
   "cell_type": "code",
   "execution_count": null,
   "metadata": {},
   "outputs": [],
   "source": [
    "POS_tags = ['NOUN', 'ADV', 'ADJ', 'VERB', 'DET', 'AUX']"
   ]
  },
  {
   "cell_type": "markdown",
   "metadata": {},
   "source": [
    "# Problem 2\n",
    "`winning_matches[i][j]` บันทึกผู้ชนะเกมส์ i ในยกที่ j ในแต่ละเกมส์นั้นผู้ที่จะเข้ารอบคือที่ชนะอย่างน้อย 3 ยก จงเขียนโปรแกรมที่หาผู้ที่เข้ารอบจากแต่ละเกมส์\n"
   ]
  },
  {
   "cell_type": "code",
   "execution_count": null,
   "metadata": {},
   "outputs": [],
   "source": [
    "winning_matches = [ ['Paul', 'Paul', 'Matt', 'Matt', 'Paul'], \n",
    "                   ['David', 'Eric', 'David', 'Eric',' Eric'], \n",
    "                   ['Jim', 'Jim', 'Jim' ] ]"
   ]
  },
  {
   "cell_type": "markdown",
   "metadata": {},
   "source": [
    "# Problem 3\n",
    "\n",
    "อาจารย์อรรถพลเดาเพศของชื่อเล่นยอดนิยมของเด็กไทยรุ่นใหม่ โดย `names` คือชื่อ 15 ชื่อแรกเป็นชื่อเด็กผู้ชาย 15 ชื่อหลังเป็นชื่อเด็กผู้หญิง และ `guesses` บันทึกผลการเดาเอาไว้ จงเขียนโปรแกรมที่คำนวณสิ่งต่อไปนี้\n",
    "\n",
    "\n",
    "* อาจารย์อรรถพลเดาผู้ชายกี่ครั้ง ผู้หญิงกี่ครั้ง\n",
    "* อาจารย์อรรถพลเดาได้แม่นยำกี่เปอร์เซนต์\n",
    "* อาจารย์อรรถพลเดาชื่อไหนผิดบ้าง\n",
    "* อาจารย์อรรถพลเดาชื่อเด็กผู้ชายเป็นชือเด็กผู้หญิงกี่ครั้ง\n",
    "* อาจารย์อรรถพลเดาชื่อเด็กผู้หญิงเป็นชือเด็กผู้ชายกี่ครั้ง\n",
    "* อาจารย์อรรถพลเดาชื่อเด็กผู้ชายถูกกี่ครั้ง\n",
    "* อาจารย์อรรถพลเดาชื่อเด็กหญิงถูกกี่ครั้ง\n",
    "\n"
   ]
  },
  {
   "cell_type": "code",
   "execution_count": null,
   "metadata": {},
   "outputs": [],
   "source": [
    "names = ['วินวิน',\n",
    " 'สมาร์ท',\n",
    " 'มิกกี้',\n",
    " 'ต้นข้าว',\n",
    " 'เจ้านาย',\n",
    " 'อาร์มมี่',\n",
    " 'ซัน',\n",
    " 'บีม',\n",
    " 'เบสท์เบสท์',\n",
    " 'อิกคิว',\n",
    " 'ติวเตอร์',\n",
    " 'คอปเตอร์',\n",
    " 'ไดมอนด์',\n",
    " 'มินเนี่ยน',\n",
    " 'ไอติม',\n",
    " 'ท้องฟ้า',\n",
    " 'ชูใจ',\n",
    " 'ชื่อใจ',\n",
    " 'พอใจ',\n",
    " 'เอมี่',\n",
    " 'พอเพียง',\n",
    " 'พิมมี่',\n",
    " 'โฟกัส',\n",
    " 'พลอยใส',\n",
    " 'มินนี่',\n",
    " 'ลูกหว้า',\n",
    " 'ต้นฝน',\n",
    " 'ไอริณ',\n",
    " 'ฟางฟาง',\n",
    " 'ป็อบคอร์น']\n",
    "\n",
    "guesses = ['male', \n",
    "           'male',\n",
    "          'male',\n",
    "          'male',\n",
    "          'male',\n",
    "          'female',\n",
    "          'male',\n",
    "          'male',\n",
    "          'female',\n",
    "          'male',\n",
    "          'male',\n",
    "          'male',\n",
    "           'male',\n",
    "           'male',\n",
    "          'female',\n",
    "          'female',\n",
    "          'female',\n",
    "          'female',\n",
    "          'female',\n",
    "          'female',\n",
    "          'male',\n",
    "          'female',\n",
    "          'female',\n",
    "          'female',\n",
    "          'female',\n",
    "          'female',\n",
    "          'female',\n",
    "          'female',\n",
    "          'female',\n",
    "          'male']"
   ]
  },
  {
   "cell_type": "markdown",
   "metadata": {},
   "source": [
    "# Problem 4\n",
    "จงเขียนโปรแกรมที่สร้าง List of tuples (name, line id) จาก nested dictionary โดยเรียงลำดับตามอักษรของชื่อ\n",
    "\n",
    "โปรแกรมที่ถูกต้องจะต้อง return `[('Alex', 'alexcool'), ('Bo', 'bobo'), ('Chris', 'chrissie'), ('Doug', 'dougd')]`\n"
   ]
  },
  {
   "cell_type": "code",
   "execution_count": null,
   "metadata": {},
   "outputs": [],
   "source": [
    "contacts = {\n",
    "    'Alex' : {'phone': '123-456-789', 'line': 'alexcool'},\n",
    "    'Bo': {'home phone': '111-222-3333', 'line': 'bobo'},\n",
    "    'Chris': {'phone': '444-555-6666', 'line': 'chrissie'},\n",
    "    'Doug': {'mobile phone': '444-555-6666', 'line': 'dougd'}\n",
    "}"
   ]
  }
 ],
 "metadata": {
  "kernelspec": {
   "display_name": "Python 3",
   "language": "python",
   "name": "python3"
  },
  "language_info": {
   "codemirror_mode": {
    "name": "ipython",
    "version": 3
   },
   "file_extension": ".py",
   "mimetype": "text/x-python",
   "name": "python",
   "nbconvert_exporter": "python",
   "pygments_lexer": "ipython3",
   "version": "3.6.5"
  }
 },
 "nbformat": 4,
 "nbformat_minor": 2
}
