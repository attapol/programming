{
 "cells": [
  {
   "cell_type": "markdown",
   "metadata": {},
   "source": [
    "# คำชี้แจง\n",
    "เขียนโปรแกรม Python ตามที่กำหนด โดย output ของโปรแกรมจะมีเฉลยไว้ให้แล้ว แต่ต้องเขียนคำสั่งการคำนวณให้ถูกต้อง\n",
    "\n",
    "ทุกข้อต้องใช้ตัวแปรในการเก็บข้อมูลเพื่อให้โค้ดอ่านง่ายขึ้น"
   ]
  },
  {
   "cell_type": "markdown",
   "metadata": {},
   "source": [
    "# ข้อ 1\n",
    "สูตรการปริมาตรคือ กว้าง x ยาว x สูง จงหาปริมาตรของกล่องที่มีความกว้าง 3 ซม. ยาว 7 ซม. และ สูง 9 ซม.\n",
    "\n",
    "คำตอบคือ 189"
   ]
  },
  {
   "cell_type": "code",
   "execution_count": null,
   "metadata": {},
   "outputs": [],
   "source": []
  },
  {
   "cell_type": "markdown",
   "metadata": {},
   "source": [
    "# ข้อ 2\n",
    "เวลา 5 ชั่วโมง 10 นาที 10 วินาที เท่ากับเวลากี่วินาที\n",
    "\n",
    "คำตอบคือ 18610"
   ]
  },
  {
   "cell_type": "code",
   "execution_count": null,
   "metadata": {},
   "outputs": [],
   "source": []
  },
  {
   "cell_type": "markdown",
   "metadata": {},
   "source": [
    "# ข้อ 3\n",
    "ค่าจุดทศนิยมของไพ (22 หาร 7) ยาวไปเกือบจะไม่รู้จบ จงหาค่าของไพจนถึงทศนิยมตำแหน่งที่ 8\n",
    "\n",
    "คำตอบคือ 3.14285714"
   ]
  },
  {
   "cell_type": "code",
   "execution_count": null,
   "metadata": {},
   "outputs": [],
   "source": []
  },
  {
   "cell_type": "markdown",
   "metadata": {},
   "source": [
    "# ข้อ 4\n",
    "\n",
    "จงเขียนคำสั่งการคำนวณพื้นที่วงกลมที่มีรัศมี 6 เซนติเมตร ปัดให้ไม่เหลือจุดทศนิยม\n",
    "\n",
    "คำตอบคือ 113"
   ]
  },
  {
   "cell_type": "code",
   "execution_count": null,
   "metadata": {},
   "outputs": [],
   "source": []
  },
  {
   "cell_type": "markdown",
   "metadata": {},
   "source": [
    "# ข้อ 5\n",
    "\n",
    "5.1 เขียน function ในการแปลงฟุตให้เป็นเซนติเมตร (1 ฟุตเท่ากับ 30 เซนติเมตร)\n",
    "และเรียก (call) function ที่เขียนมาใช้แปลง 18.6 ฟุตให้เป็นเซนติเมตร\n",
    "\n",
    "คำตอบ 558.0"
   ]
  },
  {
   "cell_type": "code",
   "execution_count": null,
   "metadata": {},
   "outputs": [],
   "source": []
  },
  {
   "cell_type": "markdown",
   "metadata": {},
   "source": [
    "5.2 ใช้ function จาก 5.1 มาแปลง 7 ฟุตให้เป็นเซนติเมตร (ห้าม define function ใหม่ใช้ function เดิม)\n",
    "\n",
    "คำตอบคือ 210.0 หรือ 210"
   ]
  },
  {
   "cell_type": "code",
   "execution_count": null,
   "metadata": {},
   "outputs": [],
   "source": []
  },
  {
   "cell_type": "markdown",
   "metadata": {},
   "source": [
    "# ข้อ 6\n",
    "6.1 เขียน function ในการคำนวณผลลัพท์ของสมการเชิงเส้น $y = 0.5 + 3x_1 + 8x_2 $ และเรียกใช้ function ที่เขียนมาคำนวณค่า y เมื่อ $x_1 = 5$ และ $x_2 = 3$\n",
    "\n",
    "คำตอบ 39.5"
   ]
  },
  {
   "cell_type": "code",
   "execution_count": null,
   "metadata": {},
   "outputs": [],
   "source": []
  },
  {
   "cell_type": "markdown",
   "metadata": {},
   "source": [
    "6.2 เรียกใช้ function ที่เขียนมาคำนวณค่า y เมื่อ $x_1 = 1$ และ $x_2 = 8$\n",
    "\n",
    "คำตอบ 67.5"
   ]
  },
  {
   "cell_type": "code",
   "execution_count": null,
   "metadata": {},
   "outputs": [],
   "source": []
  }
 ],
 "metadata": {
  "kernelspec": {
   "display_name": "Python 3",
   "language": "python",
   "name": "python3"
  },
  "language_info": {
   "codemirror_mode": {
    "name": "ipython",
    "version": 3
   },
   "file_extension": ".py",
   "mimetype": "text/x-python",
   "name": "python",
   "nbconvert_exporter": "python",
   "pygments_lexer": "ipython3",
   "version": "3.6.5"
  }
 },
 "nbformat": 4,
 "nbformat_minor": 2
}
